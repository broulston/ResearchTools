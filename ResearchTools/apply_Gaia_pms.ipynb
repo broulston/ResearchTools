{
 "cells": [
  {
   "cell_type": "code",
   "execution_count": 4,
   "id": "2a1ac9d7-2f15-4498-b397-3c3bb430d8f8",
   "metadata": {},
   "outputs": [],
   "source": [
    "import astropy.units as u\n",
    "from astropy.time import Time\n",
    "from astropy.coordinates import SkyCoord, Distance\n",
    "import astropy.coordinates as coord\n",
    "from astroquery.gaia import Gaia\n",
    "from astroquery.vizier import Vizier\n",
    "from astropy.io import fits\n",
    "import numpy as np\n",
    "from astropy.table import Table"
   ]
  },
  {
   "cell_type": "code",
   "execution_count": 6,
   "id": "e476ff7a-fd3c-4f96-bf61-608ce0ec4739",
   "metadata": {},
   "outputs": [
    {
     "data": {
      "text/html": [
       "<i>Table masked=True length=11</i>\n",
       "<table id=\"table5341086000\" class=\"table-striped table-bordered table-condensed\">\n",
       "<thead><tr><th>ra_hhmmss</th><th>dec_ddmmss</th><th>ra_epoch2000</th><th>dec_epoch2000</th><th>errHalfMaj</th><th>errHalfMin</th><th>errPosAng</th><th>src_id</th><th>ra_x</th><th>ra_error</th><th>dec_x</th><th>dec_error</th><th>parallax</th><th>parallax_error</th><th>parallax_over_error</th><th>pm</th><th>pmra</th><th>pmra_error</th><th>pmdec</th><th>pmdec_error</th><th>astrometric_n_good_obs_al</th><th>astrometric_gof_al</th><th>astrometric_chi2_al</th><th>astrometric_excess_noise</th><th>astrometric_excess_noise_sig</th><th>astrometric_params_solved</th><th>pseudocolour</th><th>pseudocolour_error</th><th>visibility_periods_used</th><th>ruwe</th><th>duplicated_source</th><th>phot_g_mean_flux</th><th>phot_g_mean_flux_error</th><th>phot_g_mean_mag</th><th>phot_bp_mean_flux</th><th>phot_bp_mean_flux_error</th><th>phot_bp_mean_mag</th><th>phot_rp_mean_flux</th><th>phot_rp_mean_mag</th><th>phot_bp_rp_excess_factor</th><th>bp_rp</th><th>dr2_radial_velocity</th><th>dr2_radial_velocity_error</th><th>dr2_rv_nb_transits</th><th>dr2_rv_template_teff</th><th>dr2_rv_template_logg</th><th>panstarrs1</th><th>sdssdr13</th><th>skymapper2</th><th>urat1</th><th>phot_g_mean_mag_error</th><th>phot_bp_mean_mag_error</th><th>phot_rp_mean_mag_error</th><th>phot_g_mean_mag_corrected</th><th>phot_g_mean_mag_error_corrected</th><th>phot_g_mean_flux_corrected</th><th>phot_bp_rp_excess_factor_corrected</th><th>ra_epoch2000_error</th><th>dec_epoch2000_error</th><th>ra_dec_epoch2000_corr</th><th>angDist</th><th>Source</th><th>RA_ICRS</th><th>DE_ICRS</th><th>rgeo</th><th>b_rgeo_x</th><th>B_rgeo_xa</th><th>rpgeo</th><th>b_rpgeo_x</th><th>B_rpgeo_xa</th><th>Flag</th><th>angDist_x</th></tr></thead>\n",
       "<thead><tr><th></th><th></th><th>deg</th><th>deg</th><th>arcsec</th><th>arcsec</th><th>deg</th><th></th><th>deg</th><th>mas</th><th>deg</th><th>mas</th><th>mas</th><th>mas</th><th></th><th>mas / yr</th><th>mas / yr</th><th>mas / yr</th><th>mas / yr</th><th>mas / yr</th><th></th><th></th><th></th><th>mas</th><th></th><th></th><th>1 / um</th><th>1 / um</th><th></th><th></th><th></th><th>e-/s</th><th>e-/s</th><th>mag</th><th>e-/s</th><th>e-/s</th><th>mag</th><th>e-/s</th><th>mag</th><th></th><th>mag</th><th>km / s</th><th>km / s</th><th></th><th>K</th><th>[cgs]</th><th></th><th></th><th></th><th></th><th>mag</th><th>mag</th><th>mag</th><th>mag</th><th>mag</th><th>e-/s</th><th></th><th>mas</th><th>mas</th><th></th><th>arcsec</th><th></th><th>deg</th><th>deg</th><th>pc</th><th>pc</th><th>pc</th><th>pc</th><th>pc</th><th>pc</th><th></th><th>arcsec</th></tr></thead>\n",
       "<thead><tr><th>bytes11</th><th>bytes12</th><th>float64</th><th>float64</th><th>float32</th><th>float32</th><th>float32</th><th>int64</th><th>float64</th><th>float64</th><th>float64</th><th>float64</th><th>float64</th><th>float64</th><th>float64</th><th>float64</th><th>float64</th><th>float64</th><th>float64</th><th>float64</th><th>int16</th><th>float64</th><th>float64</th><th>float64</th><th>float64</th><th>uint8</th><th>float64</th><th>float64</th><th>uint8</th><th>float64</th><th>bool</th><th>float64</th><th>float64</th><th>float64</th><th>float64</th><th>float64</th><th>float64</th><th>float64</th><th>float64</th><th>float64</th><th>float64</th><th>float64</th><th>float64</th><th>int16</th><th>float32</th><th>float32</th><th>int64</th><th>int64</th><th>int32</th><th>int32</th><th>float64</th><th>float64</th><th>float64</th><th>float64</th><th>float64</th><th>float64</th><th>float64</th><th>float64</th><th>float64</th><th>float64</th><th>float64</th><th>int64</th><th>float64</th><th>float64</th><th>float64</th><th>float64</th><th>float64</th><th>float64</th><th>float64</th><th>float64</th><th>int16</th><th>float64</th></tr></thead>\n",
       "<tr><td>04:35:26.31</td><td>+34:01:35.54</td><td>68.85882358459</td><td>34.02684818991</td><td>0.0004079</td><td>0.0003137</td><td>78.4</td><td>172258910472788224</td><td>68.85962934205</td><td>0.017</td><td>34.02654026004</td><td>0.0113</td><td>7.8189</td><td>0.0189</td><td>413.9681</td><td>165.457</td><td>150.252</td><td>0.025</td><td>-69.284</td><td>0.02</td><td>254</td><td>0.9916</td><td>258.44</td><td>0.0</td><td>0.0</td><td>31</td><td>nan</td><td>nan</td><td>15</td><td>1.043</td><td>False</td><td>62317.4</td><td>16.2682</td><td>13.700844</td><td>21531.2</td><td>25.1282</td><td>14.505874</td><td>57740.6</td><td>12.844192</td><td>1.272</td><td>1.661682</td><td>77.43</td><td>6.51</td><td>8</td><td>5000.0</td><td>3.0</td><td>148830688593142592</td><td>--</td><td>--</td><td>621066747</td><td>0.00277</td><td>0.003064</td><td>0.003816</td><td>13.700844</td><td>0.00277</td><td>62317.4</td><td>-0.018</td><td>0.4046</td><td>0.3181</td><td>0.1041</td><td>2.564675</td><td>172258910472788224</td><td>68.85962934205</td><td>34.02654026004</td><td>127.153961</td><td>126.87336</td><td>127.413177</td><td>127.223907</td><td>126.902946</td><td>127.549835</td><td>10033</td><td>2.647331</td></tr>\n",
       "<tr><td>05:46:40.51</td><td>+35:10:13.23</td><td>86.66854993631</td><td>35.17098564146</td><td>0.0005876</td><td>0.0003916</td><td>98.25</td><td>3455536455059039616</td><td>86.66877410338</td><td>0.0306</td><td>35.1703426768</td><td>0.025</td><td>6.1262</td><td>0.0349</td><td>175.5205</td><td>150.428</td><td>41.23</td><td>0.036</td><td>-144.667</td><td>0.024</td><td>349</td><td>4.3543</td><td>475.27</td><td>0.133</td><td>4.178</td><td>31</td><td>nan</td><td>nan</td><td>18</td><td>1.169</td><td>False</td><td>17454.9</td><td>6.44204</td><td>15.082571</td><td>5555.42</td><td>11.0218</td><td>15.97675</td><td>16838.6</td><td>14.182128</td><td>1.283</td><td>1.794622</td><td>nan</td><td>nan</td><td>0</td><td>nan</td><td>nan</td><td>150200866687445146</td><td>--</td><td>--</td><td>626117464</td><td>0.002784</td><td>0.003525</td><td>0.003866</td><td>15.082571</td><td>0.002784</td><td>17454.9</td><td>-0.024</td><td>0.5843</td><td>0.3967</td><td>-0.1175</td><td>2.331746</td><td>3455536455059039616</td><td>86.66877410338</td><td>35.1703426768</td><td>161.927338</td><td>161.074875</td><td>162.658829</td><td>162.163391</td><td>161.071152</td><td>162.959503</td><td>10033</td><td>2.406841</td></tr>\n",
       "<tr><td>12:07:51.75</td><td>-04:34:41.55</td><td>181.96568291421</td><td>-4.57790069568</td><td>0.0021857</td><td>0.001351</td><td>113.48</td><td>3597514707925243648</td><td>181.96561530098</td><td>0.0959</td><td>-4.57820828014</td><td>0.0775</td><td>6.5232</td><td>0.1192</td><td>54.7073</td><td>70.848</td><td>-15.164</td><td>0.128</td><td>-69.207</td><td>0.094</td><td>397</td><td>72.1008</td><td>7759.85</td><td>0.707</td><td>172.4</td><td>31</td><td>nan</td><td>nan</td><td>15</td><td>4.476</td><td>False</td><td>24457.9</td><td>7.32781</td><td>14.716318</td><td>7772.27</td><td>12.9377</td><td>15.612173</td><td>23991.1</td><td>13.797771</td><td>1.299</td><td>1.814402</td><td>nan</td><td>nan</td><td>0</td><td>nan</td><td>nan</td><td>102501819656626724</td><td>--</td><td>106582255</td><td>428122401</td><td>0.002774</td><td>0.003324</td><td>0.003852</td><td>14.716318</td><td>0.002774</td><td>24457.9</td><td>-0.011</td><td>2.0757</td><td>1.5146</td><td>-0.3432</td><td>1.097864</td><td>3597514707925243648</td><td>181.96561530098</td><td>-4.57820828014</td><td>152.22908</td><td>149.808121</td><td>154.698166</td><td>153.287598</td><td>151.002182</td><td>156.000244</td><td>10033</td><td>1.133575</td></tr>\n",
       "<tr><td>12:40:55.17</td><td>+48:51:14.14</td><td>190.22980315653</td><td>48.85393058989</td><td>0.0022048</td><td>0.0013617</td><td>29.25</td><td>1543546619812246016</td><td>190.22986843615</td><td>0.0869</td><td>48.8539278816</td><td>0.1019</td><td>5.5727</td><td>0.1528</td><td>36.4815</td><td>9.684</td><td>9.664</td><td>0.101</td><td>-0.609</td><td>0.128</td><td>687</td><td>134.7133</td><td>27899.74</td><td>1.562</td><td>734.5</td><td>31</td><td>nan</td><td>nan</td><td>29</td><td>6.356</td><td>False</td><td>15778.8</td><td>3.67155</td><td>15.192184</td><td>4798.45</td><td>10.3556</td><td>16.135788</td><td>15833.2</td><td>14.248975</td><td>1.308</td><td>1.886813</td><td>nan</td><td>nan</td><td>0</td><td>nan</td><td>nan</td><td>166621902298235375</td><td>1237658203439300662</td><td>--</td><td>695228918</td><td>0.002767</td><td>0.003644</td><td>0.003883</td><td>15.192184</td><td>0.002767</td><td>15778.8</td><td>-0.012</td><td>1.6038</td><td>2.0355</td><td>0.3927</td><td>0.149935</td><td>1543546619812246016</td><td>190.22986843615</td><td>48.8539278816</td><td>178.849823</td><td>173.968918</td><td>182.77063</td><td>178.52887</td><td>174.117462</td><td>183.423309</td><td>10033</td><td>0.154937</td></tr>\n",
       "<tr><td>13:12:42.27</td><td>+55:55:54.84</td><td>198.17706948746</td><td>55.93178498354</td><td>0.0004252</td><td>0.0003536</td><td>19.76</td><td>1564664286810409856</td><td>198.17613827817</td><td>0.0176</td><td>55.93189879569</td><td>0.0189</td><td>9.5383</td><td>0.0234</td><td>407.4652</td><td>120.131</td><td>-117.37</td><td>0.023</td><td>25.607</td><td>0.026</td><td>385</td><td>13.8047</td><td>860.29</td><td>0.171</td><td>14.82</td><td>31</td><td>nan</td><td>nan</td><td>28</td><td>1.539</td><td>False</td><td>39494.0</td><td>30.9641</td><td>14.196039</td><td>11906.1</td><td>43.3773</td><td>15.149115</td><td>39970.8</td><td>13.243537</td><td>1.314</td><td>1.905578</td><td>nan</td><td>nan</td><td>0</td><td>nan</td><td>nan</td><td>175111981765648941</td><td>1237661385990340621</td><td>--</td><td>730231368</td><td>0.002884</td><td>0.004841</td><td>0.004925</td><td>14.196039</td><td>0.002884</td><td>39494.0</td><td>-0.008</td><td>0.3625</td><td>0.4177</td><td>0.1172</td><td>1.862083</td><td>1564664286810409856</td><td>198.17613827817</td><td>55.93189879569</td><td>104.462227</td><td>104.233376</td><td>104.719078</td><td>104.499847</td><td>104.262718</td><td>104.716949</td><td>10033</td><td>1.922094</td></tr>\n",
       "<tr><td>09:01:28.26</td><td>+32:38:33.55</td><td>135.36784752802</td><td>32.64265800176</td><td>0.001962</td><td>0.0009797</td><td>129.68</td><td>712490170524923776</td><td>135.36776670359</td><td>0.0866</td><td>32.64265346979</td><td>0.0591</td><td>1.6741</td><td>0.1028</td><td>16.292</td><td>15.347</td><td>-15.313</td><td>0.1</td><td>-1.02</td><td>0.09</td><td>379</td><td>-1.1644</td><td>358.49</td><td>0.0</td><td>2.078e-15</td><td>31</td><td>nan</td><td>nan</td><td>18</td><td>0.957</td><td>False</td><td>2105.21</td><td>4.32911</td><td>17.37913</td><td>677.575</td><td>11.5348</td><td>18.261148</td><td>1991.52</td><td>16.499933</td><td>1.268</td><td>1.761215</td><td>nan</td><td>nan</td><td>0</td><td>nan</td><td>nan</td><td>147171353677851781</td><td>1237660764303196276</td><td>--</td><td>614181120</td><td>0.003546</td><td>0.018693</td><td>0.009079</td><td>17.37913</td><td>0.003546</td><td>2105.21</td><td>-0.035</td><td>1.6344</td><td>1.4622</td><td>-0.5942</td><td>0.245552</td><td>712490170524923776</td><td>135.36776670359</td><td>32.64265346979</td><td>582.378601</td><td>551.872192</td><td>619.116577</td><td>608.419983</td><td>571.717102</td><td>648.19574</td><td>10033</td><td>0.245552</td></tr>\n",
       "<tr><td>10:15:48.92</td><td>+09:46:49.65</td><td>153.95372547832</td><td>9.78048479038</td><td>0.0020618</td><td>0.0015199</td><td>122.94</td><td>3876726610531307776</td><td>153.95382956031</td><td>0.0944</td><td>9.78045825629</td><td>0.0766</td><td>1.6753</td><td>0.1036</td><td>16.1763</td><td>23.838</td><td>23.078</td><td>0.118</td><td>-5.97</td><td>0.104</td><td>143</td><td>3.4281</td><td>211.46</td><td>0.342</td><td>3.261</td><td>31</td><td>nan</td><td>nan</td><td>13</td><td>1.211</td><td>False</td><td>3436.64</td><td>5.99217</td><td>16.847033</td><td>1410.84</td><td>16.699</td><td>17.46485</td><td>2959.64</td><td>16.0698</td><td>1.272</td><td>1.39505</td><td>nan</td><td>nan</td><td>0</td><td>nan</td><td>nan</td><td>119731539537667050</td><td>1237660585518825509</td><td>--</td><td>499158180</td><td>0.003343</td><td>0.01315</td><td>0.0132</td><td>16.847033</td><td>0.003343</td><td>3436.64</td><td>0.014</td><td>1.9176</td><td>1.6982</td><td>-0.272</td><td>0.381405</td><td>3876726610531307776</td><td>153.95382956031</td><td>9.78045825629</td><td>595.875977</td><td>551.296387</td><td>633.757446</td><td>636.161438</td><td>592.512024</td><td>672.642944</td><td>10033</td><td>0.381405</td></tr>\n",
       "<tr><td>12:50:17.93</td><td>+25:24:27.32</td><td>192.57457133147</td><td>25.40766977094</td><td>0.0011913</td><td>0.0006693</td><td>136.29</td><td>3958070546634049536</td><td>192.57471017018</td><td>0.0517</td><td>25.4075881422</td><td>0.0372</td><td>3.6431</td><td>0.0613</td><td>59.4206</td><td>33.668</td><td>28.217</td><td>0.06</td><td>-18.366</td><td>0.061</td><td>318</td><td>0.0442</td><td>327.25</td><td>0.0</td><td>0.0</td><td>31</td><td>nan</td><td>nan</td><td>17</td><td>1.001</td><td>False</td><td>4850.71</td><td>3.62288</td><td>16.472855</td><td>1414.18</td><td>8.21743</td><td>17.462282</td><td>4928.55</td><td>15.516098</td><td>1.308</td><td>1.946184</td><td>nan</td><td>nan</td><td>0</td><td>nan</td><td>nan</td><td>138481925746619690</td><td>1237667912206843933</td><td>--</td><td>578183163</td><td>0.002872</td><td>0.006898</td><td>0.004879</td><td>16.472855</td><td>0.002872</td><td>4850.71</td><td>-0.02</td><td>0.9548</td><td>0.9775</td><td>-0.5198</td><td>0.538689</td><td>3958070546634049536</td><td>192.57471017018</td><td>25.4075881422</td><td>272.692413</td><td>267.890045</td><td>276.421478</td><td>272.650757</td><td>267.897339</td><td>277.577423</td><td>10033</td><td>0.538689</td></tr>\n",
       "<tr><td>15:19:05.93</td><td>+50:07:03.14</td><td>229.7748991324</td><td>50.11746148578</td><td>0.0012548</td><td>0.0010374</td><td>29.8</td><td>1595423193316708352</td><td>229.77471631159</td><td>0.0551</td><td>50.11753836264</td><td>0.0562</td><td>2.2735</td><td>0.0639</td><td>35.5586</td><td>31.542</td><td>-26.376</td><td>0.069</td><td>17.297</td><td>0.075</td><td>367</td><td>1.4785</td><td>418.95</td><td>0.265</td><td>1.949</td><td>31</td><td>nan</td><td>nan</td><td>28</td><td>1.055</td><td>False</td><td>2291.22</td><td>6.51601</td><td>17.287199</td><td>1296.33</td><td>11.9125</td><td>17.556751</td><td>1526.74</td><td>16.788479</td><td>1.232</td><td>0.768272</td><td>nan</td><td>nan</td><td>0</td><td>nan</td><td>nan</td><td>168142297748021700</td><td>1237659324948545626</td><td>--</td><td>701239556</td><td>0.004138</td><td>0.01036</td><td>0.014481</td><td>17.287199</td><td>0.004138</td><td>2291.22</td><td>0.035</td><td>1.0951</td><td>1.2047</td><td>0.1628</td><td>0.504672</td><td>1595423193316708352</td><td>229.77471631159</td><td>50.11753836264</td><td>437.342529</td><td>426.571259</td><td>449.896271</td><td>437.094482</td><td>424.607697</td><td>451.726074</td><td>10033</td><td>0.504672</td></tr>\n",
       "<tr><td>15:48:59.68</td><td>+34:18:22.33</td><td>237.24887758979</td><td>34.30599118434</td><td>0.0012345</td><td>0.0007501</td><td>16.63</td><td>1370986619248298112</td><td>237.24865256337</td><td>0.0395</td><td>34.30620402962</td><td>0.0506</td><td>4.3825</td><td>0.059</td><td>74.2804</td><td>63.582</td><td>-41.823</td><td>0.05</td><td>47.89</td><td>0.074</td><td>465</td><td>-0.1702</td><td>476.31</td><td>0.0</td><td>0.0</td><td>31</td><td>nan</td><td>nan</td><td>30</td><td>0.994</td><td>False</td><td>2686.69</td><td>1.75508</td><td>17.114323</td><td>691.865</td><td>7.231</td><td>18.23849</td><td>2890.92</td><td>16.095304</td><td>1.334</td><td>2.143185</td><td>nan</td><td>nan</td><td>0</td><td>nan</td><td>nan</td><td>149162372486918031</td><td>1237662337327497433</td><td>--</td><td>622207043</td><td>0.002845</td><td>0.011686</td><td>0.005029</td><td>17.114323</td><td>0.002845</td><td>2686.69</td><td>-0.021</td><td>0.8009</td><td>1.2022</td><td>0.2739</td><td>1.017308</td><td>1370986619248298112</td><td>237.24865256337</td><td>34.30620402962</td><td>226.748566</td><td>223.32756</td><td>229.77037</td><td>227.31369</td><td>224.557846</td><td>230.572983</td><td>10033</td><td>1.017308</td></tr>\n",
       "<tr><td>16:37:18.63</td><td>+27:40:26.63</td><td>249.32766101843</td><td>27.67403140857</td><td>0.0013168</td><td>0.0010715</td><td>27.09</td><td>1304625350139162496</td><td>249.32761063858</td><td>0.0505</td><td>27.67406447561</td><td>0.0569</td><td>2.4967</td><td>0.0767</td><td>32.5383</td><td>12.495</td><td>-10.039</td><td>0.07</td><td>7.44</td><td>0.079</td><td>513</td><td>-0.3368</td><td>520.09</td><td>0.0</td><td>0.0</td><td>31</td><td>nan</td><td>nan</td><td>30</td><td>0.989</td><td>False</td><td>1818.55</td><td>1.47769</td><td>17.538055</td><td>470.788</td><td>5.7454</td><td>18.656477</td><td>1922.79</td><td>16.538069</td><td>1.316</td><td>2.118408</td><td>nan</td><td>nan</td><td>0</td><td>nan</td><td>nan</td><td>141202493276389443</td><td>1237662504298676530</td><td>--</td><td>589212325</td><td>0.002893</td><td>0.013541</td><td>0.005694</td><td>17.538055</td><td>0.002893</td><td>1818.55</td><td>-0.035</td><td>1.1268</td><td>1.2698</td><td>0.166</td><td>0.199924</td><td>1304625350139162496</td><td>249.32761063858</td><td>27.67406447561</td><td>393.117218</td><td>380.78476</td><td>403.816864</td><td>397.447144</td><td>386.490417</td><td>410.080841</td><td>10033</td><td>0.199924</td></tr>\n",
       "</table>"
      ],
      "text/plain": [
       "<Table masked=True length=11>\n",
       " ra_hhmmss   dec_ddmmss    ra_epoch2000  ... B_rpgeo_xa  Flag angDist_x\n",
       "                               deg       ...     pc             arcsec \n",
       "  bytes11     bytes12        float64     ...  float64   int16  float64 \n",
       "----------- ------------ --------------- ... ---------- ----- ---------\n",
       "04:35:26.31 +34:01:35.54  68.85882358459 ... 127.549835 10033  2.647331\n",
       "05:46:40.51 +35:10:13.23  86.66854993631 ... 162.959503 10033  2.406841\n",
       "12:07:51.75 -04:34:41.55 181.96568291421 ... 156.000244 10033  1.133575\n",
       "12:40:55.17 +48:51:14.14 190.22980315653 ... 183.423309 10033  0.154937\n",
       "13:12:42.27 +55:55:54.84 198.17706948746 ... 104.716949 10033  1.922094\n",
       "09:01:28.26 +32:38:33.55 135.36784752802 ...  648.19574 10033  0.245552\n",
       "10:15:48.92 +09:46:49.65 153.95372547832 ... 672.642944 10033  0.381405\n",
       "12:50:17.93 +25:24:27.32 192.57457133147 ... 277.577423 10033  0.538689\n",
       "15:19:05.93 +50:07:03.14  229.7748991324 ... 451.726074 10033  0.504672\n",
       "15:48:59.68 +34:18:22.33 237.24887758979 ... 230.572983 10033  1.017308\n",
       "16:37:18.63 +27:40:26.63 249.32766101843 ... 410.080841 10033  0.199924"
      ]
     },
     "execution_count": 6,
     "metadata": {},
     "output_type": "execute_result"
    }
   ],
   "source": [
    "dC_data = Table.read(\"CXC_dCs_15-16-21-22_GaiaEDR3.fits\")\n",
    "dC_data"
   ]
  },
  {
   "cell_type": "code",
   "execution_count": 14,
   "id": "d74e50ba-660f-43ec-a214-7e9ce5f09146",
   "metadata": {},
   "outputs": [],
   "source": [
    "ra_epoch2000 = dC_data[\"ra_epoch2000\"].data.data * u.deg\n",
    "dec_epoch2000 = dC_data[\"dec_epoch2000\"].data.data * u.deg\n",
    "\n",
    "pmra = dC_data[\"pmra\"].data.data * u.mas / u.yr\n",
    "pmdec = dC_data[\"pmdec\"].data.data * u.mas / u.yr\n",
    "\n",
    "dist = dC_data[\"rpgeo\"].data.data * u.pc\n",
    "\n",
    "new_RA_DEC = np.empty((ra_epoch2000.size,2))"
   ]
  },
  {
   "cell_type": "code",
   "execution_count": 23,
   "id": "87ea0c55-2b2d-4ba8-9c96-5e42c2468f3b",
   "metadata": {},
   "outputs": [],
   "source": [
    "for ii in range(ra_epoch2000.size):\n",
    "    c = SkyCoord(ra=ra_epoch2000[ii], dec=dec_epoch2000[ii],\n",
    "                 pm_ra_cosdec=pmra[ii], pm_dec=pmdec[ii],\n",
    "                 distance= dist[ii], obstime=Time('2000-01-01 11:58:55.816'))\n",
    "    new_coord = c.apply_space_motion(new_obstime=Time('2015-07-01 23:59:59')) \n",
    "    new_RA_DEC[ii,0] = new_coord.ra.value\n",
    "    new_RA_DEC[ii,1] = new_coord.dec.value"
   ]
  },
  {
   "cell_type": "code",
   "execution_count": null,
   "id": "d027e7bd-242c-4739-b695-cb5e55be44ca",
   "metadata": {},
   "outputs": [],
   "source": []
  }
 ],
 "metadata": {
  "kernelspec": {
   "display_name": "Python 3",
   "language": "python",
   "name": "python3"
  },
  "language_info": {
   "codemirror_mode": {
    "name": "ipython",
    "version": 3
   },
   "file_extension": ".py",
   "mimetype": "text/x-python",
   "name": "python",
   "nbconvert_exporter": "python",
   "pygments_lexer": "ipython3",
   "version": "3.9.4"
  }
 },
 "nbformat": 4,
 "nbformat_minor": 5
}
